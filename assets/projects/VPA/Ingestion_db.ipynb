{
 "cells": [
  {
   "cell_type": "code",
   "execution_count": null,
   "metadata": {},
   "outputs": [],
   "source": [
    "import pandas as pd\n",
    "import os\n",
    "from sqlalchemy import create_engine\n",
    "import logging\n",
    "import time\n",
    "\n",
    "logging.basicConfig(\n",
    "    filename=\"logs/ingestion_db.log\",\n",
    "    level=logging.DEBUG,\n",
    "    format=\"%(asctime)s - %(levelname)s - %(message)s\",\n",
    "    filemode=\"a\"\n",
    ")\n",
    "engine = create_engine('sqlite:///inventory.db')\n",
    "\n",
    "def ingest_db(df, table_name, engine):\n",
    "    \"\"\"This function will ingest the dataframe into database table\"\"\"\n",
    "    df.to_sql(table_name, con=engine, if_exists='replace', index=False, chunksize=1000, method='multi')\n",
    "\n",
    "def load_raw_data():\n",
    "    \"\"\" This function will load the CSVs as dataframe and ingest into db \"\"\"\n",
    "    start = time.time()\n",
    "    for file in os.listdir('D:/VendorPerformanceAnalysis'):\n",
    "        if '.csv' in file:\n",
    "            df = pd.read_csv('D:/VendorPerformanceAnalysis/' + file)\n",
    "            logging.info(f'Ingesting {file} in db')\n",
    "            ingest_db(df, file[:-4], engine)\n",
    "    end = time.time()\n",
    "    total_time = (end - start)/60\n",
    "    logging.info('--------------Ingestion Complete----------')\n",
    "\n",
    "    logging.info(f'\\nTotal Time Taken : {total_time} minutes')\n",
    "\n",
    "if __name__ == '__main__':\n",
    "    load_raw_data()"
   ]
  }
 ],
 "metadata": {
  "kernelspec": {
   "display_name": "Python 3.10.6 64-bit",
   "language": "python",
   "name": "python3"
  },
  "language_info": {
   "name": "python",
   "version": "3.10.6"
  },
  "orig_nbformat": 4,
  "vscode": {
   "interpreter": {
    "hash": "c5516288e302482df5b603fa8d75eb7ec3868f6c20ecc30177af9dc79b353cfd"
   }
  }
 },
 "nbformat": 4,
 "nbformat_minor": 2
}
